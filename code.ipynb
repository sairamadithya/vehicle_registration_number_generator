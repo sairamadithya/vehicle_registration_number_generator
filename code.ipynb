import random
from math import *
print("this project can generate vehicle registration number based on areas of residence in Chennai")
print("1.Chennai Central, 2.Chennai North West, 3.Chennai North East, 4.Chennai East, 5.Chennai North, 6.Chennai South East, 7.Chennai South, 8.Chennai West, 9.Chennai South West, 10.Tambaram, 11.Poonamallee, 12.Ambattur")
print("https://indiagkforyou.blogspot.com/2016/06/tamil-nadu-tn-vehicle-registration-rto.html")
print("refer to this website for clarity on city zones")
print("enter the zone in chennai you belong to (choose from the above):")
zone=input()
if zone=="Chennai Central":
    p1= "TN-01-"
elif zone=="Chennai North West":
    p1= "TN-02-"
elif zone=="Chennai North East":
    p1= "TN-03-"
elif zone=="Chennai East":
    p1= "TN-04-"
elif zone=="Chennai North":
    p1= "TN-05-"   
elif zone=="Chennai South East":
    p1= "TN-06-"
elif zone=="Chennai South":
    p1= "TN-07-"
elif zone=="Chennai West":
    p1= "TN-09-"
elif zone=="Chennai South West":
    p1= "TN-10-"
elif zone=="Tambaram":
    p1= "TN-11-"
elif zone=="Poonamallee":
    p1= "TN-12-"
else:
    p1= "TN-13-"
dig="ABCDEFGHIJKLMNOPQRSTUVWXYZ"
p2=""
for i in range(2) : 
    p2 += dig[floor(random.random() * 26)]   
digits = "0123456789"
p3= ""
for i in range(4) : 
    p3 += digits[floor(random.random() * 10)]  
reg_token= p1+p2+"-"+p3
print("the registration number for your vehicle is:",reg_token)
print("THANK YOU FOR USING THIS APPLICATION.")
